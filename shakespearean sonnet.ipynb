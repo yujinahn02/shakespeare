{
 "cells": [
  {
   "cell_type": "code",
   "execution_count": 1,
   "id": "2a961f9e",
   "metadata": {},
   "outputs": [],
   "source": [
    "#shakespeare.py\n",
    "def Read(fname):\n",
    "    a = open(fname, encoding = \"IISO-8859-1\").read()\n",
    "    a = a.lower()\n",
    "    return a\n"
   ]
  },
  {
   "cell_type": "code",
   "execution_count": 2,
   "id": "e3104e44",
   "metadata": {},
   "outputs": [],
   "source": [
    "def MakeDict( instr, WL=1, retprobs=True ):\n",
    "    # N is the word length\n",
    "    L = len( instr )\n",
    "    dct = {}\n",
    "    for i in range( L-WL ):\n",
    "        keyl = instr[i:i+WL]\n",
    "        retral = instr[i+WL]\n",
    "        if keyl in dct:\n",
    "            if retral in dct[keyl][0]:\n",
    "                ndx = dct[keyl][0].index( retral )\n",
    "                dct[keyl][1][ndx] +=1\n",
    "            else:\n",
    "                dct[keyl][0].append( retral )\n",
    "                dct[keyl][1].append( 1 )\n",
    "        else:\n",
    "            dct[keyl] = [[retral],[1]]\n",
    "    K = list(dct.keys())\n",
    "    if retprobs:\n",
    "        for i in K:\n",
    "            vec = np.array( dct[i][1] )\n",
    "            vec = vec/vec.sum()\n",
    "            dct[i][1] = vec\n",
    "    return dct"
   ]
  },
  {
   "cell_type": "code",
   "execution_count": 3,
   "id": "6600ed0d",
   "metadata": {},
   "outputs": [],
   "source": [
    "def BuildString(dct, L, abet, WL):\n",
    "    keys = list(dct.keys())\n",
    "    stng = np.random.choice(keys)\n",
    "    for i in range (L):\n",
    "        preced = stng[-WL:]\n",
    "        if preced in dct:\n",
    "            newlett = np.random.choice(dct[preced][0], p = dct[preced][1])\n",
    "            stng += newlett\n",
    "        else:\n",
    "            r = int(np.random.rang() * len(abet))\n",
    "            stng += abet[r]\n",
    "    return stng"
   ]
  },
  {
   "cell_type": "code",
   "execution_count": 4,
   "id": "508cb04c",
   "metadata": {},
   "outputs": [
    {
     "ename": "FileNotFoundError",
     "evalue": "[Errno 2] No such file or directory: 'sonnets.txt'",
     "output_type": "error",
     "traceback": [
      "\u001b[0;31m---------------------------------------------------------------------------\u001b[0m",
      "\u001b[0;31mFileNotFoundError\u001b[0m                         Traceback (most recent call last)",
      "\u001b[0;32m/var/folders/g5/6gyxfk59227f996hm6f38wbm0000gn/T/ipykernel_54972/842050617.py\u001b[0m in \u001b[0;36m<module>\u001b[0;34m\u001b[0m\n\u001b[1;32m      1\u001b[0m \u001b[0;32mimport\u001b[0m \u001b[0mshakespeare\u001b[0m\u001b[0;34m\u001b[0m\u001b[0;34m\u001b[0m\u001b[0m\n\u001b[1;32m      2\u001b[0m \u001b[0;31m#Examining the output of the MakeDict function\u001b[0m\u001b[0;34m\u001b[0m\u001b[0;34m\u001b[0m\u001b[0m\n\u001b[0;32m----> 3\u001b[0;31m \u001b[0msonnets\u001b[0m \u001b[0;34m=\u001b[0m \u001b[0mshakespeare\u001b[0m\u001b[0;34m.\u001b[0m\u001b[0mRead\u001b[0m\u001b[0;34m(\u001b[0m\u001b[0;34m'sonnets.txt'\u001b[0m\u001b[0;34m)\u001b[0m\u001b[0;34m\u001b[0m\u001b[0;34m\u001b[0m\u001b[0m\n\u001b[0m\u001b[1;32m      4\u001b[0m \u001b[0mdct\u001b[0m \u001b[0;34m=\u001b[0m \u001b[0mshakespeare\u001b[0m\u001b[0;34m.\u001b[0m\u001b[0mMakeDict\u001b[0m\u001b[0;34m(\u001b[0m\u001b[0msonnets\u001b[0m\u001b[0;34m)\u001b[0m\u001b[0;34m\u001b[0m\u001b[0;34m\u001b[0m\u001b[0m\n\u001b[1;32m      5\u001b[0m \u001b[0mprint\u001b[0m\u001b[0;34m(\u001b[0m\u001b[0mdct\u001b[0m\u001b[0;34m[\u001b[0m\u001b[0;34m'z'\u001b[0m\u001b[0;34m]\u001b[0m\u001b[0;34m)\u001b[0m\u001b[0;34m\u001b[0m\u001b[0;34m\u001b[0m\u001b[0m\n",
      "\u001b[0;32m~/shakespeare.py\u001b[0m in \u001b[0;36mRead\u001b[0;34m(fname)\u001b[0m\n\u001b[1;32m     11\u001b[0m \u001b[0;31m# read the data\u001b[0m\u001b[0;34m\u001b[0m\u001b[0;34m\u001b[0m\u001b[0m\n\u001b[1;32m     12\u001b[0m \u001b[0;32mdef\u001b[0m \u001b[0mRead\u001b[0m\u001b[0;34m(\u001b[0m \u001b[0mfname\u001b[0m \u001b[0;34m)\u001b[0m\u001b[0;34m:\u001b[0m\u001b[0;34m\u001b[0m\u001b[0;34m\u001b[0m\u001b[0m\n\u001b[0;32m---> 13\u001b[0;31m     \u001b[0ma\u001b[0m \u001b[0;34m=\u001b[0m \u001b[0mopen\u001b[0m\u001b[0;34m(\u001b[0m \u001b[0mfname\u001b[0m \u001b[0;34m)\u001b[0m\u001b[0;34m.\u001b[0m\u001b[0mread\u001b[0m\u001b[0;34m(\u001b[0m\u001b[0;34m)\u001b[0m\u001b[0;34m\u001b[0m\u001b[0;34m\u001b[0m\u001b[0m\n\u001b[0m\u001b[1;32m     14\u001b[0m     \u001b[0ma\u001b[0m \u001b[0;34m=\u001b[0m \u001b[0ma\u001b[0m\u001b[0;34m.\u001b[0m\u001b[0mlower\u001b[0m\u001b[0;34m(\u001b[0m\u001b[0;34m)\u001b[0m\u001b[0;34m\u001b[0m\u001b[0;34m\u001b[0m\u001b[0m\n\u001b[1;32m     15\u001b[0m     \u001b[0;32mreturn\u001b[0m \u001b[0ma\u001b[0m\u001b[0;34m\u001b[0m\u001b[0;34m\u001b[0m\u001b[0m\n",
      "\u001b[0;31mFileNotFoundError\u001b[0m: [Errno 2] No such file or directory: 'sonnets.txt'"
     ]
    }
   ],
   "source": [
    "import shakespeare\n",
    "#Examining the output of the MakeDict function\n",
    "sonnets = shakespeare.Read('sonnets.txt')\n",
    "dct = shakespeare.MakeDict(sonnets)\n",
    "print(dct['z'])\n"
   ]
  },
  {
   "cell_type": "code",
   "execution_count": null,
   "id": "b1fadb71",
   "metadata": {},
   "outputs": [],
   "source": [
    "# testing out different word lengths\n",
    "WL = 2\n",
    "dct = shakespeare.MakeDict(sonnets, WL)\n",
    "output = shakespeare.BuildString(dct, 700, 'abc', WL)\n",
    "print(output)\n",
    "\n",
    "WL = 5\n",
    "dct = shakespeare.MakeDict(sonnets, WL)\n",
    "output = shakespeare.BuildString(dct, 700, 'abcdefgh', WL)\n",
    "print(output)\n",
    "\n",
    "WL = 15\n",
    "dct = shakespeare.MakeDict(sonnets, WL)\n",
    "output = shakespeare.BuildString(dct, 700, 'abcdefghijklmnopqrs', WL)\n",
    "print(output)"
   ]
  }
 ],
 "metadata": {
  "kernelspec": {
   "display_name": "Python 3 (ipykernel)",
   "language": "python",
   "name": "python3"
  },
  "language_info": {
   "codemirror_mode": {
    "name": "ipython",
    "version": 3
   },
   "file_extension": ".py",
   "mimetype": "text/x-python",
   "name": "python",
   "nbconvert_exporter": "python",
   "pygments_lexer": "ipython3",
   "version": "3.9.13"
  },
  "toc": {
   "base_numbering": 1,
   "nav_menu": {},
   "number_sections": true,
   "sideBar": true,
   "skip_h1_title": false,
   "title_cell": "Table of Contents",
   "title_sidebar": "Contents",
   "toc_cell": false,
   "toc_position": {},
   "toc_section_display": true,
   "toc_window_display": false
  }
 },
 "nbformat": 4,
 "nbformat_minor": 5
}
